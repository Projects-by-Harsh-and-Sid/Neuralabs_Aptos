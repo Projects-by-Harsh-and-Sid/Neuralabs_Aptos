{
 "cells": [
  {
   "cell_type": "code",
   "execution_count": null,
   "metadata": {},
   "outputs": [],
   "source": [
    "# pip install httpx websockets"
   ]
  },
  {
   "cell_type": "code",
   "execution_count": null,
   "metadata": {},
   "outputs": [],
   "source": [
    "#!/usr/bin/env python3\n",
    "import yaml\n",
    "import httpx\n",
    "import sys\n",
    "import json\n",
    "import asyncio\n",
    "import websockets\n",
    "import time\n"
   ]
  },
  {
   "cell_type": "code",
   "execution_count": null,
   "metadata": {},
   "outputs": [],
   "source": [
    "\n",
    "\n",
    "# Backend 1 URL\n",
    "backend1_url = \"http://localhost:8000/execute\"\n",
    "# WebSocket URL to receive streaming responses\n",
    "ws_url = \"ws://localhost:8000/ws\"\n",
    "\n",
    "# Load the YAML flow file\n",
    "yaml_file_path = \"./execution_flows/simple-ai-flow.yaml\"\n",
    "print(f\"Loading flow from {yaml_file_path}...\")\n",
    "\n",
    "with open(yaml_file_path, 'r') as file:\n",
    "    yaml_data = yaml.safe_load(file)\n"
   ]
  },
  {
   "cell_type": "code",
   "execution_count": null,
   "metadata": {},
   "outputs": [],
   "source": [
    "flow_id = yaml_data.get(\"flow_id\", \"flow-\" + yaml_file_path.split(\"/\")[-1].split(\".\")[0])"
   ]
  },
  {
   "cell_type": "code",
   "execution_count": 17,
   "metadata": {},
   "outputs": [
    {
     "name": "stdout",
     "output_type": "stream",
     "text": [
      "Connecting to WebSocket at ws://localhost:8000/ws/execute/simple-ai-flow\n",
      "Connected. Waiting for ready message...\n",
      "Received: {\"status\": \"ready\", \"message\": \"Send flow_definition as JSON\"}\n",
      "Sent flow definition\n",
      "Received: {\"status\": \"received_flow\", \"message\": \"Send initial_inputs as JSON\"}\n",
      "Sent initial inputs\n",
      "Received: {\"status\": \"received_inputs\", \"message\": \"Send config as JSON or 'null'\"}\n",
      "Sent null config\n",
      "Received: {\"status\": \"starting\", \"message\": \"Starting flow execution\"}\n",
      "Flow execution starting. Receiving events...\n",
      "WebSocket connection closed\n"
     ]
    }
   ],
   "source": [
    "async def execute_and_stream():\n",
    "    # Connect to the WebSocket without sending parameters in URL\n",
    "    websocket_url = f\"ws://localhost:8000/ws/execute/{flow_id}\"\n",
    "    \n",
    "    print(f\"Connecting to WebSocket at {websocket_url}\")\n",
    "    \n",
    "    try:\n",
    "        async with websockets.connect(websocket_url) as websocket:\n",
    "            print(\"Connected. Waiting for ready message...\")\n",
    "            \n",
    "            # Wait for ready message\n",
    "            ready_msg = await websocket.recv()\n",
    "            print(f\"Received: {ready_msg}\")\n",
    "            \n",
    "            # Send flow definition\n",
    "            flow_definition_str = json.dumps(yaml_data.get(\"flow_definition\"))\n",
    "            await websocket.send(flow_definition_str)\n",
    "            print(\"Sent flow definition\")\n",
    "            \n",
    "            # Wait for acknowledgment\n",
    "            ack1 = await websocket.recv()\n",
    "            print(f\"Received: {ack1}\")\n",
    "            \n",
    "            # Send initial inputs\n",
    "            initial_inputs_str = json.dumps(yaml_data.get(\"initial_inputs\", {}))\n",
    "            await websocket.send(initial_inputs_str)\n",
    "            print(\"Sent initial inputs\")\n",
    "            \n",
    "            # Wait for acknowledgment\n",
    "            ack2 = await websocket.recv()\n",
    "            print(f\"Received: {ack2}\")\n",
    "            \n",
    "            # Send config (null in this case)\n",
    "            await websocket.send(\"null\")\n",
    "            print(\"Sent null config\")\n",
    "            \n",
    "            # Wait for final acknowledgment\n",
    "            ack3 = await websocket.recv()\n",
    "            print(f\"Received: {ack3}\")\n",
    "            \n",
    "            print(\"Flow execution starting. Receiving events...\")\n",
    "            \n",
    "            # Now receive streaming events\n",
    "            while True:\n",
    "                try:\n",
    "                    message = await websocket.recv()\n",
    "                    \n",
    "                    try:\n",
    "                        data = json.loads(message)\n",
    "                        event_type = data.get(\"type\", \"unknown\")\n",
    "                        timestamp = data.get(\"timestamp\", time.time())\n",
    "                        \n",
    "                        # Format timestamp for display\n",
    "                        formatted_time = time.strftime(\"%H:%M:%S\", time.localtime(timestamp))\n",
    "                        \n",
    "                        print(f\"[{formatted_time}] {event_type}\")\n",
    "                        \n",
    "                        # For some events, show more detailed information\n",
    "                        if event_type == \"element_started\":\n",
    "                            element_data = data.get(\"data\", {})\n",
    "                            element_name = element_data.get(\"element_name\", \"Unknown\")\n",
    "                            element_type = element_data.get(\"element_type\", \"Unknown\")\n",
    "                            print(f\"  ▶ Started: {element_name} ({element_type})\")\n",
    "                        \n",
    "                        elif event_type == \"element_completed\":\n",
    "                            element_data = data.get(\"data\", {})\n",
    "                            element_name = element_data.get(\"element_name\", \"Unknown\")\n",
    "                            print(f\"  ✓ Completed: {element_name}\")\n",
    "                        \n",
    "                        elif event_type == \"element_error\":\n",
    "                            element_data = data.get(\"data\", {})\n",
    "                            element_name = element_data.get(\"element_name\", \"Unknown\")\n",
    "                            error = element_data.get(\"error\", \"Unknown error\")\n",
    "                            print(f\"  ✗ Error in {element_name}: {error}\")\n",
    "                        \n",
    "                        elif event_type == \"llm_chunk\":\n",
    "                            chunk = data.get(\"data\", {}).get(\"content\", \"\")\n",
    "                            print(f\"  📝 LLM: {chunk}\", end=\"\", flush=True)\n",
    "                        \n",
    "                        elif event_type == \"flow_completed\":\n",
    "                            print(f\"  ✅ Flow completed\")\n",
    "                            return\n",
    "                            \n",
    "                    except json.JSONDecodeError:\n",
    "                        print(f\"Received non-JSON message: {message[:100]}...\")\n",
    "                        \n",
    "                except websockets.exceptions.ConnectionClosed:\n",
    "                    print(\"WebSocket connection closed\")\n",
    "                    break\n",
    "                    \n",
    "    except Exception as e:\n",
    "        print(f\"Error in WebSocket connection: {str(e)}\")\n",
    "\n",
    "# Call the function to execute and stream\n",
    "await execute_and_stream()"
   ]
  },
  {
   "cell_type": "code",
   "execution_count": null,
   "metadata": {},
   "outputs": [],
   "source": []
  }
 ],
 "metadata": {
  "kernelspec": {
   "display_name": "neuralabs-aptos",
   "language": "python",
   "name": "python3"
  },
  "language_info": {
   "codemirror_mode": {
    "name": "ipython",
    "version": 3
   },
   "file_extension": ".py",
   "mimetype": "text/x-python",
   "name": "python",
   "nbconvert_exporter": "python",
   "pygments_lexer": "ipython3",
   "version": "3.12.9"
  }
 },
 "nbformat": 4,
 "nbformat_minor": 2
}
