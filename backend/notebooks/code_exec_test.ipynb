{
 "cells": [
  {
   "cell_type": "code",
   "execution_count": null,
   "metadata": {},
   "outputs": [
    {
     "name": "stdout",
     "output_type": "stream",
     "text": [
      "Requirement already satisfied: httpx in /home/sid/anaconda3/envs/neuralabs-aptos/lib/python3.12/site-packages (0.27.2)\n",
      "Requirement already satisfied: websockets in /home/sid/anaconda3/envs/neuralabs-aptos/lib/python3.12/site-packages (15.0.1)\n",
      "Requirement already satisfied: anyio in /home/sid/anaconda3/envs/neuralabs-aptos/lib/python3.12/site-packages (from httpx) (4.9.0)\n",
      "Requirement already satisfied: certifi in /home/sid/anaconda3/envs/neuralabs-aptos/lib/python3.12/site-packages (from httpx) (2025.1.31)\n",
      "Requirement already satisfied: httpcore==1.* in /home/sid/anaconda3/envs/neuralabs-aptos/lib/python3.12/site-packages (from httpx) (1.0.7)\n",
      "Requirement already satisfied: idna in /home/sid/anaconda3/envs/neuralabs-aptos/lib/python3.12/site-packages (from httpx) (3.10)\n",
      "Requirement already satisfied: sniffio in /home/sid/anaconda3/envs/neuralabs-aptos/lib/python3.12/site-packages (from httpx) (1.3.1)\n",
      "Requirement already satisfied: h11<0.15,>=0.13 in /home/sid/anaconda3/envs/neuralabs-aptos/lib/python3.12/site-packages (from httpcore==1.*->httpx) (0.14.0)\n",
      "Requirement already satisfied: typing_extensions>=4.5 in /home/sid/anaconda3/envs/neuralabs-aptos/lib/python3.12/site-packages (from anyio->httpx) (4.12.2)\n",
      "Note: you may need to restart the kernel to use updated packages.\n"
     ]
    }
   ],
   "source": [
    "# pip install httpx websockets"
   ]
  },
  {
   "cell_type": "code",
   "execution_count": 5,
   "metadata": {},
   "outputs": [],
   "source": [
    "#!/usr/bin/env python3\n",
    "import yaml\n",
    "import httpx\n",
    "import sys\n",
    "import json\n",
    "import asyncio\n",
    "import websockets\n",
    "import time\n"
   ]
  },
  {
   "cell_type": "code",
   "execution_count": 6,
   "metadata": {},
   "outputs": [
    {
     "name": "stdout",
     "output_type": "stream",
     "text": [
      "Loading flow from ./execution_flows/simple-ai-flow.yaml...\n"
     ]
    }
   ],
   "source": [
    "\n",
    "\n",
    "# Backend 1 URL\n",
    "backend1_url = \"http://localhost:8000/execute\"\n",
    "# WebSocket URL to receive streaming responses\n",
    "ws_url = \"ws://localhost:8000/ws\"\n",
    "\n",
    "# Load the YAML flow file\n",
    "yaml_file_path = \"./execution_flows/simple-ai-flow.yaml\"\n",
    "print(f\"Loading flow from {yaml_file_path}...\")\n",
    "\n",
    "with open(yaml_file_path, 'r') as file:\n",
    "    yaml_data = yaml.safe_load(file)\n"
   ]
  },
  {
   "cell_type": "code",
   "execution_count": 8,
   "metadata": {},
   "outputs": [],
   "source": [
    "flow_id = yaml_data.get(\"flow_id\", \"flow-\" + yaml_file_path.split(\"/\")[-1].split(\".\")[0])"
   ]
  },
  {
   "cell_type": "code",
   "execution_count": null,
   "metadata": {},
   "outputs": [],
   "source": [
    "\n",
    "\n",
    "\n",
    "\n",
    "# Print streaming responses\n",
    "async def listen_to_stream():\n",
    "    # Connect to Backend 1's WebSocket\n",
    "    stream_url = f\"{ws_url}/{flow_id}\"\n",
    "    print(f\"Connecting to stream at {stream_url}...\")\n",
    "    \n",
    "    try:\n",
    "        async with websockets.connect(stream_url) as websocket:\n",
    "            print(\"Connected to WebSocket stream. Waiting for messages...\")\n",
    "            \n",
    "            while True:\n",
    "                try:\n",
    "                    # Receive message\n",
    "                    message = await websocket.recv()\n",
    "                    \n",
    "                    # Parse and print the message\n",
    "                    try:\n",
    "                        data = json.loads(message)\n",
    "                        event_type = data.get(\"type\", \"unknown\")\n",
    "                        timestamp = data.get(\"timestamp\", time.time())\n",
    "                        \n",
    "                        # Format timestamp for display\n",
    "                        formatted_time = time.strftime(\"%H:%M:%S\", time.localtime(timestamp))\n",
    "                        \n",
    "                        print(f\"[{formatted_time}] {event_type}\")\n",
    "                        \n",
    "                        # For some events, show more detailed information\n",
    "                        if event_type == \"element_started\":\n",
    "                            element_data = data.get(\"data\", {})\n",
    "                            element_name = element_data.get(\"element_name\", \"Unknown\")\n",
    "                            element_type = element_data.get(\"element_type\", \"Unknown\")\n",
    "                            print(f\"  ▶ Started: {element_name} ({element_type})\")\n",
    "                        \n",
    "                        elif event_type == \"element_completed\":\n",
    "                            element_data = data.get(\"data\", {})\n",
    "                            element_name = element_data.get(\"element_name\", \"Unknown\")\n",
    "                            print(f\"  ✓ Completed: {element_name}\")\n",
    "                        \n",
    "                        elif event_type == \"element_error\":\n",
    "                            element_data = data.get(\"data\", {})\n",
    "                            element_name = element_data.get(\"element_name\", \"Unknown\")\n",
    "                            error = element_data.get(\"error\", \"Unknown error\")\n",
    "                            print(f\"  ✗ Error in {element_name}: {error}\")\n",
    "                        \n",
    "                        elif event_type == \"llm_chunk\":\n",
    "                            chunk = data.get(\"data\", {}).get(\"content\", \"\")\n",
    "                            print(f\"  📝 LLM: {chunk}\", end=\"\", flush=True)\n",
    "                        \n",
    "                        elif event_type == \"flow_completed\":\n",
    "                            print(f\"  ✅ Flow completed\")\n",
    "                            return\n",
    "                            \n",
    "                    except json.JSONDecodeError:\n",
    "                        print(f\"Received non-JSON message: {message[:100]}...\")\n",
    "                        \n",
    "                except websockets.exceptions.ConnectionClosed:\n",
    "                    print(\"WebSocket connection closed\")\n",
    "                    break\n",
    "                    \n",
    "    except Exception as e:\n",
    "        print(f\"Error in WebSocket connection: {str(e)}\")\n",
    "\n"
   ]
  },
  {
   "cell_type": "code",
   "execution_count": 10,
   "metadata": {},
   "outputs": [
    {
     "name": "stdout",
     "output_type": "stream",
     "text": [
      "Sending flow 'simple-ai-flow' to Backend 1...\n"
     ]
    },
    {
     "ename": "ReadTimeout",
     "evalue": "",
     "output_type": "error",
     "traceback": [
      "\u001b[31m---------------------------------------------------------------------------\u001b[39m",
      "\u001b[31mReadTimeout\u001b[39m                               Traceback (most recent call last)",
      "\u001b[36mFile \u001b[39m\u001b[32m~/anaconda3/envs/neuralabs-aptos/lib/python3.12/site-packages/httpx/_transports/default.py:72\u001b[39m, in \u001b[36mmap_httpcore_exceptions\u001b[39m\u001b[34m()\u001b[39m\n\u001b[32m     71\u001b[39m \u001b[38;5;28;01mtry\u001b[39;00m:\n\u001b[32m---> \u001b[39m\u001b[32m72\u001b[39m     \u001b[38;5;28;01myield\u001b[39;00m\n\u001b[32m     73\u001b[39m \u001b[38;5;28;01mexcept\u001b[39;00m \u001b[38;5;167;01mException\u001b[39;00m \u001b[38;5;28;01mas\u001b[39;00m exc:\n",
      "\u001b[36mFile \u001b[39m\u001b[32m~/anaconda3/envs/neuralabs-aptos/lib/python3.12/site-packages/httpx/_transports/default.py:377\u001b[39m, in \u001b[36mAsyncHTTPTransport.handle_async_request\u001b[39m\u001b[34m(self, request)\u001b[39m\n\u001b[32m    376\u001b[39m \u001b[38;5;28;01mwith\u001b[39;00m map_httpcore_exceptions():\n\u001b[32m--> \u001b[39m\u001b[32m377\u001b[39m     resp = \u001b[38;5;28;01mawait\u001b[39;00m \u001b[38;5;28mself\u001b[39m._pool.handle_async_request(req)\n\u001b[32m    379\u001b[39m \u001b[38;5;28;01massert\u001b[39;00m \u001b[38;5;28misinstance\u001b[39m(resp.stream, typing.AsyncIterable)\n",
      "\u001b[36mFile \u001b[39m\u001b[32m~/anaconda3/envs/neuralabs-aptos/lib/python3.12/site-packages/httpcore/_async/connection_pool.py:256\u001b[39m, in \u001b[36mAsyncConnectionPool.handle_async_request\u001b[39m\u001b[34m(self, request)\u001b[39m\n\u001b[32m    255\u001b[39m     \u001b[38;5;28;01mawait\u001b[39;00m \u001b[38;5;28mself\u001b[39m._close_connections(closing)\n\u001b[32m--> \u001b[39m\u001b[32m256\u001b[39m     \u001b[38;5;28;01mraise\u001b[39;00m exc \u001b[38;5;28;01mfrom\u001b[39;00m\u001b[38;5;250m \u001b[39m\u001b[38;5;28;01mNone\u001b[39;00m\n\u001b[32m    258\u001b[39m \u001b[38;5;66;03m# Return the response. Note that in this case we still have to manage\u001b[39;00m\n\u001b[32m    259\u001b[39m \u001b[38;5;66;03m# the point at which the response is closed.\u001b[39;00m\n",
      "\u001b[36mFile \u001b[39m\u001b[32m~/anaconda3/envs/neuralabs-aptos/lib/python3.12/site-packages/httpcore/_async/connection_pool.py:236\u001b[39m, in \u001b[36mAsyncConnectionPool.handle_async_request\u001b[39m\u001b[34m(self, request)\u001b[39m\n\u001b[32m    234\u001b[39m \u001b[38;5;28;01mtry\u001b[39;00m:\n\u001b[32m    235\u001b[39m     \u001b[38;5;66;03m# Send the request on the assigned connection.\u001b[39;00m\n\u001b[32m--> \u001b[39m\u001b[32m236\u001b[39m     response = \u001b[38;5;28;01mawait\u001b[39;00m connection.handle_async_request(\n\u001b[32m    237\u001b[39m         pool_request.request\n\u001b[32m    238\u001b[39m     )\n\u001b[32m    239\u001b[39m \u001b[38;5;28;01mexcept\u001b[39;00m ConnectionNotAvailable:\n\u001b[32m    240\u001b[39m     \u001b[38;5;66;03m# In some cases a connection may initially be available to\u001b[39;00m\n\u001b[32m    241\u001b[39m     \u001b[38;5;66;03m# handle a request, but then become unavailable.\u001b[39;00m\n\u001b[32m    242\u001b[39m     \u001b[38;5;66;03m#\u001b[39;00m\n\u001b[32m    243\u001b[39m     \u001b[38;5;66;03m# In this case we clear the connection and try again.\u001b[39;00m\n",
      "\u001b[36mFile \u001b[39m\u001b[32m~/anaconda3/envs/neuralabs-aptos/lib/python3.12/site-packages/httpcore/_async/connection.py:103\u001b[39m, in \u001b[36mAsyncHTTPConnection.handle_async_request\u001b[39m\u001b[34m(self, request)\u001b[39m\n\u001b[32m    101\u001b[39m     \u001b[38;5;28;01mraise\u001b[39;00m exc\n\u001b[32m--> \u001b[39m\u001b[32m103\u001b[39m \u001b[38;5;28;01mreturn\u001b[39;00m \u001b[38;5;28;01mawait\u001b[39;00m \u001b[38;5;28mself\u001b[39m._connection.handle_async_request(request)\n",
      "\u001b[36mFile \u001b[39m\u001b[32m~/anaconda3/envs/neuralabs-aptos/lib/python3.12/site-packages/httpcore/_async/http11.py:136\u001b[39m, in \u001b[36mAsyncHTTP11Connection.handle_async_request\u001b[39m\u001b[34m(self, request)\u001b[39m\n\u001b[32m    135\u001b[39m         \u001b[38;5;28;01mawait\u001b[39;00m \u001b[38;5;28mself\u001b[39m._response_closed()\n\u001b[32m--> \u001b[39m\u001b[32m136\u001b[39m \u001b[38;5;28;01mraise\u001b[39;00m exc\n",
      "\u001b[36mFile \u001b[39m\u001b[32m~/anaconda3/envs/neuralabs-aptos/lib/python3.12/site-packages/httpcore/_async/http11.py:106\u001b[39m, in \u001b[36mAsyncHTTP11Connection.handle_async_request\u001b[39m\u001b[34m(self, request)\u001b[39m\n\u001b[32m     97\u001b[39m \u001b[38;5;28;01masync\u001b[39;00m \u001b[38;5;28;01mwith\u001b[39;00m Trace(\n\u001b[32m     98\u001b[39m     \u001b[33m\"\u001b[39m\u001b[33mreceive_response_headers\u001b[39m\u001b[33m\"\u001b[39m, logger, request, kwargs\n\u001b[32m     99\u001b[39m ) \u001b[38;5;28;01mas\u001b[39;00m trace:\n\u001b[32m    100\u001b[39m     (\n\u001b[32m    101\u001b[39m         http_version,\n\u001b[32m    102\u001b[39m         status,\n\u001b[32m    103\u001b[39m         reason_phrase,\n\u001b[32m    104\u001b[39m         headers,\n\u001b[32m    105\u001b[39m         trailing_data,\n\u001b[32m--> \u001b[39m\u001b[32m106\u001b[39m     ) = \u001b[38;5;28;01mawait\u001b[39;00m \u001b[38;5;28mself\u001b[39m._receive_response_headers(**kwargs)\n\u001b[32m    107\u001b[39m     trace.return_value = (\n\u001b[32m    108\u001b[39m         http_version,\n\u001b[32m    109\u001b[39m         status,\n\u001b[32m    110\u001b[39m         reason_phrase,\n\u001b[32m    111\u001b[39m         headers,\n\u001b[32m    112\u001b[39m     )\n",
      "\u001b[36mFile \u001b[39m\u001b[32m~/anaconda3/envs/neuralabs-aptos/lib/python3.12/site-packages/httpcore/_async/http11.py:177\u001b[39m, in \u001b[36mAsyncHTTP11Connection._receive_response_headers\u001b[39m\u001b[34m(self, request)\u001b[39m\n\u001b[32m    176\u001b[39m \u001b[38;5;28;01mwhile\u001b[39;00m \u001b[38;5;28;01mTrue\u001b[39;00m:\n\u001b[32m--> \u001b[39m\u001b[32m177\u001b[39m     event = \u001b[38;5;28;01mawait\u001b[39;00m \u001b[38;5;28mself\u001b[39m._receive_event(timeout=timeout)\n\u001b[32m    178\u001b[39m     \u001b[38;5;28;01mif\u001b[39;00m \u001b[38;5;28misinstance\u001b[39m(event, h11.Response):\n",
      "\u001b[36mFile \u001b[39m\u001b[32m~/anaconda3/envs/neuralabs-aptos/lib/python3.12/site-packages/httpcore/_async/http11.py:217\u001b[39m, in \u001b[36mAsyncHTTP11Connection._receive_event\u001b[39m\u001b[34m(self, timeout)\u001b[39m\n\u001b[32m    216\u001b[39m \u001b[38;5;28;01mif\u001b[39;00m event \u001b[38;5;129;01mis\u001b[39;00m h11.NEED_DATA:\n\u001b[32m--> \u001b[39m\u001b[32m217\u001b[39m     data = \u001b[38;5;28;01mawait\u001b[39;00m \u001b[38;5;28mself\u001b[39m._network_stream.read(\n\u001b[32m    218\u001b[39m         \u001b[38;5;28mself\u001b[39m.READ_NUM_BYTES, timeout=timeout\n\u001b[32m    219\u001b[39m     )\n\u001b[32m    221\u001b[39m     \u001b[38;5;66;03m# If we feed this case through h11 we'll raise an exception like:\u001b[39;00m\n\u001b[32m    222\u001b[39m     \u001b[38;5;66;03m#\u001b[39;00m\n\u001b[32m    223\u001b[39m     \u001b[38;5;66;03m#     httpcore.RemoteProtocolError: can't handle event type\u001b[39;00m\n\u001b[32m   (...)\u001b[39m\u001b[32m    227\u001b[39m     \u001b[38;5;66;03m# perspective. Instead we handle this case distinctly and treat\u001b[39;00m\n\u001b[32m    228\u001b[39m     \u001b[38;5;66;03m# it as a ConnectError.\u001b[39;00m\n",
      "\u001b[36mFile \u001b[39m\u001b[32m~/anaconda3/envs/neuralabs-aptos/lib/python3.12/site-packages/httpcore/_backends/anyio.py:32\u001b[39m, in \u001b[36mAnyIOStream.read\u001b[39m\u001b[34m(self, max_bytes, timeout)\u001b[39m\n\u001b[32m     26\u001b[39m exc_map = {\n\u001b[32m     27\u001b[39m     \u001b[38;5;167;01mTimeoutError\u001b[39;00m: ReadTimeout,\n\u001b[32m     28\u001b[39m     anyio.BrokenResourceError: ReadError,\n\u001b[32m     29\u001b[39m     anyio.ClosedResourceError: ReadError,\n\u001b[32m     30\u001b[39m     anyio.EndOfStream: ReadError,\n\u001b[32m     31\u001b[39m }\n\u001b[32m---> \u001b[39m\u001b[32m32\u001b[39m \u001b[38;5;28;01mwith\u001b[39;00m map_exceptions(exc_map):\n\u001b[32m     33\u001b[39m     \u001b[38;5;28;01mwith\u001b[39;00m anyio.fail_after(timeout):\n",
      "\u001b[36mFile \u001b[39m\u001b[32m~/anaconda3/envs/neuralabs-aptos/lib/python3.12/contextlib.py:158\u001b[39m, in \u001b[36m_GeneratorContextManager.__exit__\u001b[39m\u001b[34m(self, typ, value, traceback)\u001b[39m\n\u001b[32m    157\u001b[39m \u001b[38;5;28;01mtry\u001b[39;00m:\n\u001b[32m--> \u001b[39m\u001b[32m158\u001b[39m     \u001b[38;5;28;43mself\u001b[39;49m\u001b[43m.\u001b[49m\u001b[43mgen\u001b[49m\u001b[43m.\u001b[49m\u001b[43mthrow\u001b[49m\u001b[43m(\u001b[49m\u001b[43mvalue\u001b[49m\u001b[43m)\u001b[49m\n\u001b[32m    159\u001b[39m \u001b[38;5;28;01mexcept\u001b[39;00m \u001b[38;5;167;01mStopIteration\u001b[39;00m \u001b[38;5;28;01mas\u001b[39;00m exc:\n\u001b[32m    160\u001b[39m     \u001b[38;5;66;03m# Suppress StopIteration *unless* it's the same exception that\u001b[39;00m\n\u001b[32m    161\u001b[39m     \u001b[38;5;66;03m# was passed to throw().  This prevents a StopIteration\u001b[39;00m\n\u001b[32m    162\u001b[39m     \u001b[38;5;66;03m# raised inside the \"with\" statement from being suppressed.\u001b[39;00m\n",
      "\u001b[36mFile \u001b[39m\u001b[32m~/anaconda3/envs/neuralabs-aptos/lib/python3.12/site-packages/httpcore/_exceptions.py:14\u001b[39m, in \u001b[36mmap_exceptions\u001b[39m\u001b[34m(map)\u001b[39m\n\u001b[32m     13\u001b[39m     \u001b[38;5;28;01mif\u001b[39;00m \u001b[38;5;28misinstance\u001b[39m(exc, from_exc):\n\u001b[32m---> \u001b[39m\u001b[32m14\u001b[39m         \u001b[38;5;28;01mraise\u001b[39;00m to_exc(exc) \u001b[38;5;28;01mfrom\u001b[39;00m\u001b[38;5;250m \u001b[39m\u001b[34;01mexc\u001b[39;00m\n\u001b[32m     15\u001b[39m \u001b[38;5;28;01mraise\u001b[39;00m\n",
      "\u001b[31mReadTimeout\u001b[39m: ",
      "\nThe above exception was the direct cause of the following exception:\n",
      "\u001b[31mReadTimeout\u001b[39m                               Traceback (most recent call last)",
      "\u001b[36mCell\u001b[39m\u001b[36m \u001b[39m\u001b[32mIn[10]\u001b[39m\u001b[32m, line 15\u001b[39m\n\u001b[32m     13\u001b[39m \u001b[38;5;28mprint\u001b[39m(\u001b[33mf\u001b[39m\u001b[33m\"\u001b[39m\u001b[33mSending flow \u001b[39m\u001b[33m'\u001b[39m\u001b[38;5;132;01m{\u001b[39;00mflow_id\u001b[38;5;132;01m}\u001b[39;00m\u001b[33m'\u001b[39m\u001b[33m to Backend 1...\u001b[39m\u001b[33m\"\u001b[39m)\n\u001b[32m     14\u001b[39m \u001b[38;5;28;01masync\u001b[39;00m \u001b[38;5;28;01mwith\u001b[39;00m httpx.AsyncClient() \u001b[38;5;28;01mas\u001b[39;00m client:\n\u001b[32m---> \u001b[39m\u001b[32m15\u001b[39m     response = \u001b[38;5;28;01mawait\u001b[39;00m client.post(backend1_url, json=request_data, timeout=\u001b[32m30.0\u001b[39m)\n\u001b[32m     17\u001b[39m \u001b[38;5;66;03m# Display the response\u001b[39;00m\n\u001b[32m     18\u001b[39m \u001b[38;5;28;01mif\u001b[39;00m response.status_code == \u001b[32m200\u001b[39m:\n",
      "\u001b[36mFile \u001b[39m\u001b[32m~/anaconda3/envs/neuralabs-aptos/lib/python3.12/site-packages/httpx/_client.py:1905\u001b[39m, in \u001b[36mAsyncClient.post\u001b[39m\u001b[34m(self, url, content, data, files, json, params, headers, cookies, auth, follow_redirects, timeout, extensions)\u001b[39m\n\u001b[32m   1884\u001b[39m \u001b[38;5;28;01masync\u001b[39;00m \u001b[38;5;28;01mdef\u001b[39;00m\u001b[38;5;250m \u001b[39m\u001b[34mpost\u001b[39m(\n\u001b[32m   1885\u001b[39m     \u001b[38;5;28mself\u001b[39m,\n\u001b[32m   1886\u001b[39m     url: URL | \u001b[38;5;28mstr\u001b[39m,\n\u001b[32m   (...)\u001b[39m\u001b[32m   1898\u001b[39m     extensions: RequestExtensions | \u001b[38;5;28;01mNone\u001b[39;00m = \u001b[38;5;28;01mNone\u001b[39;00m,\n\u001b[32m   1899\u001b[39m ) -> Response:\n\u001b[32m   1900\u001b[39m \u001b[38;5;250m    \u001b[39m\u001b[33;03m\"\"\"\u001b[39;00m\n\u001b[32m   1901\u001b[39m \u001b[33;03m    Send a `POST` request.\u001b[39;00m\n\u001b[32m   1902\u001b[39m \n\u001b[32m   1903\u001b[39m \u001b[33;03m    **Parameters**: See `httpx.request`.\u001b[39;00m\n\u001b[32m   1904\u001b[39m \u001b[33;03m    \"\"\"\u001b[39;00m\n\u001b[32m-> \u001b[39m\u001b[32m1905\u001b[39m     \u001b[38;5;28;01mreturn\u001b[39;00m \u001b[38;5;28;01mawait\u001b[39;00m \u001b[38;5;28mself\u001b[39m.request(\n\u001b[32m   1906\u001b[39m         \u001b[33m\"\u001b[39m\u001b[33mPOST\u001b[39m\u001b[33m\"\u001b[39m,\n\u001b[32m   1907\u001b[39m         url,\n\u001b[32m   1908\u001b[39m         content=content,\n\u001b[32m   1909\u001b[39m         data=data,\n\u001b[32m   1910\u001b[39m         files=files,\n\u001b[32m   1911\u001b[39m         json=json,\n\u001b[32m   1912\u001b[39m         params=params,\n\u001b[32m   1913\u001b[39m         headers=headers,\n\u001b[32m   1914\u001b[39m         cookies=cookies,\n\u001b[32m   1915\u001b[39m         auth=auth,\n\u001b[32m   1916\u001b[39m         follow_redirects=follow_redirects,\n\u001b[32m   1917\u001b[39m         timeout=timeout,\n\u001b[32m   1918\u001b[39m         extensions=extensions,\n\u001b[32m   1919\u001b[39m     )\n",
      "\u001b[36mFile \u001b[39m\u001b[32m~/anaconda3/envs/neuralabs-aptos/lib/python3.12/site-packages/httpx/_client.py:1585\u001b[39m, in \u001b[36mAsyncClient.request\u001b[39m\u001b[34m(self, method, url, content, data, files, json, params, headers, cookies, auth, follow_redirects, timeout, extensions)\u001b[39m\n\u001b[32m   1570\u001b[39m     warnings.warn(message, \u001b[38;5;167;01mDeprecationWarning\u001b[39;00m)\n\u001b[32m   1572\u001b[39m request = \u001b[38;5;28mself\u001b[39m.build_request(\n\u001b[32m   1573\u001b[39m     method=method,\n\u001b[32m   1574\u001b[39m     url=url,\n\u001b[32m   (...)\u001b[39m\u001b[32m   1583\u001b[39m     extensions=extensions,\n\u001b[32m   1584\u001b[39m )\n\u001b[32m-> \u001b[39m\u001b[32m1585\u001b[39m \u001b[38;5;28;01mreturn\u001b[39;00m \u001b[38;5;28;01mawait\u001b[39;00m \u001b[38;5;28mself\u001b[39m.send(request, auth=auth, follow_redirects=follow_redirects)\n",
      "\u001b[36mFile \u001b[39m\u001b[32m~/anaconda3/envs/neuralabs-aptos/lib/python3.12/site-packages/httpx/_client.py:1674\u001b[39m, in \u001b[36mAsyncClient.send\u001b[39m\u001b[34m(self, request, stream, auth, follow_redirects)\u001b[39m\n\u001b[32m   1670\u001b[39m \u001b[38;5;28mself\u001b[39m._set_timeout(request)\n\u001b[32m   1672\u001b[39m auth = \u001b[38;5;28mself\u001b[39m._build_request_auth(request, auth)\n\u001b[32m-> \u001b[39m\u001b[32m1674\u001b[39m response = \u001b[38;5;28;01mawait\u001b[39;00m \u001b[38;5;28mself\u001b[39m._send_handling_auth(\n\u001b[32m   1675\u001b[39m     request,\n\u001b[32m   1676\u001b[39m     auth=auth,\n\u001b[32m   1677\u001b[39m     follow_redirects=follow_redirects,\n\u001b[32m   1678\u001b[39m     history=[],\n\u001b[32m   1679\u001b[39m )\n\u001b[32m   1680\u001b[39m \u001b[38;5;28;01mtry\u001b[39;00m:\n\u001b[32m   1681\u001b[39m     \u001b[38;5;28;01mif\u001b[39;00m \u001b[38;5;129;01mnot\u001b[39;00m stream:\n",
      "\u001b[36mFile \u001b[39m\u001b[32m~/anaconda3/envs/neuralabs-aptos/lib/python3.12/site-packages/httpx/_client.py:1702\u001b[39m, in \u001b[36mAsyncClient._send_handling_auth\u001b[39m\u001b[34m(self, request, auth, follow_redirects, history)\u001b[39m\n\u001b[32m   1699\u001b[39m request = \u001b[38;5;28;01mawait\u001b[39;00m auth_flow.\u001b[34m__anext__\u001b[39m()\n\u001b[32m   1701\u001b[39m \u001b[38;5;28;01mwhile\u001b[39;00m \u001b[38;5;28;01mTrue\u001b[39;00m:\n\u001b[32m-> \u001b[39m\u001b[32m1702\u001b[39m     response = \u001b[38;5;28;01mawait\u001b[39;00m \u001b[38;5;28mself\u001b[39m._send_handling_redirects(\n\u001b[32m   1703\u001b[39m         request,\n\u001b[32m   1704\u001b[39m         follow_redirects=follow_redirects,\n\u001b[32m   1705\u001b[39m         history=history,\n\u001b[32m   1706\u001b[39m     )\n\u001b[32m   1707\u001b[39m     \u001b[38;5;28;01mtry\u001b[39;00m:\n\u001b[32m   1708\u001b[39m         \u001b[38;5;28;01mtry\u001b[39;00m:\n",
      "\u001b[36mFile \u001b[39m\u001b[32m~/anaconda3/envs/neuralabs-aptos/lib/python3.12/site-packages/httpx/_client.py:1739\u001b[39m, in \u001b[36mAsyncClient._send_handling_redirects\u001b[39m\u001b[34m(self, request, follow_redirects, history)\u001b[39m\n\u001b[32m   1736\u001b[39m \u001b[38;5;28;01mfor\u001b[39;00m hook \u001b[38;5;129;01min\u001b[39;00m \u001b[38;5;28mself\u001b[39m._event_hooks[\u001b[33m\"\u001b[39m\u001b[33mrequest\u001b[39m\u001b[33m\"\u001b[39m]:\n\u001b[32m   1737\u001b[39m     \u001b[38;5;28;01mawait\u001b[39;00m hook(request)\n\u001b[32m-> \u001b[39m\u001b[32m1739\u001b[39m response = \u001b[38;5;28;01mawait\u001b[39;00m \u001b[38;5;28mself\u001b[39m._send_single_request(request)\n\u001b[32m   1740\u001b[39m \u001b[38;5;28;01mtry\u001b[39;00m:\n\u001b[32m   1741\u001b[39m     \u001b[38;5;28;01mfor\u001b[39;00m hook \u001b[38;5;129;01min\u001b[39;00m \u001b[38;5;28mself\u001b[39m._event_hooks[\u001b[33m\"\u001b[39m\u001b[33mresponse\u001b[39m\u001b[33m\"\u001b[39m]:\n",
      "\u001b[36mFile \u001b[39m\u001b[32m~/anaconda3/envs/neuralabs-aptos/lib/python3.12/site-packages/httpx/_client.py:1776\u001b[39m, in \u001b[36mAsyncClient._send_single_request\u001b[39m\u001b[34m(self, request)\u001b[39m\n\u001b[32m   1771\u001b[39m     \u001b[38;5;28;01mraise\u001b[39;00m \u001b[38;5;167;01mRuntimeError\u001b[39;00m(\n\u001b[32m   1772\u001b[39m         \u001b[33m\"\u001b[39m\u001b[33mAttempted to send an sync request with an AsyncClient instance.\u001b[39m\u001b[33m\"\u001b[39m\n\u001b[32m   1773\u001b[39m     )\n\u001b[32m   1775\u001b[39m \u001b[38;5;28;01mwith\u001b[39;00m request_context(request=request):\n\u001b[32m-> \u001b[39m\u001b[32m1776\u001b[39m     response = \u001b[38;5;28;01mawait\u001b[39;00m transport.handle_async_request(request)\n\u001b[32m   1778\u001b[39m \u001b[38;5;28;01massert\u001b[39;00m \u001b[38;5;28misinstance\u001b[39m(response.stream, AsyncByteStream)\n\u001b[32m   1779\u001b[39m response.request = request\n",
      "\u001b[36mFile \u001b[39m\u001b[32m~/anaconda3/envs/neuralabs-aptos/lib/python3.12/site-packages/httpx/_transports/default.py:376\u001b[39m, in \u001b[36mAsyncHTTPTransport.handle_async_request\u001b[39m\u001b[34m(self, request)\u001b[39m\n\u001b[32m    362\u001b[39m \u001b[38;5;28;01massert\u001b[39;00m \u001b[38;5;28misinstance\u001b[39m(request.stream, AsyncByteStream)\n\u001b[32m    364\u001b[39m req = httpcore.Request(\n\u001b[32m    365\u001b[39m     method=request.method,\n\u001b[32m    366\u001b[39m     url=httpcore.URL(\n\u001b[32m   (...)\u001b[39m\u001b[32m    374\u001b[39m     extensions=request.extensions,\n\u001b[32m    375\u001b[39m )\n\u001b[32m--> \u001b[39m\u001b[32m376\u001b[39m \u001b[38;5;28;01mwith\u001b[39;00m map_httpcore_exceptions():\n\u001b[32m    377\u001b[39m     resp = \u001b[38;5;28;01mawait\u001b[39;00m \u001b[38;5;28mself\u001b[39m._pool.handle_async_request(req)\n\u001b[32m    379\u001b[39m \u001b[38;5;28;01massert\u001b[39;00m \u001b[38;5;28misinstance\u001b[39m(resp.stream, typing.AsyncIterable)\n",
      "\u001b[36mFile \u001b[39m\u001b[32m~/anaconda3/envs/neuralabs-aptos/lib/python3.12/contextlib.py:158\u001b[39m, in \u001b[36m_GeneratorContextManager.__exit__\u001b[39m\u001b[34m(self, typ, value, traceback)\u001b[39m\n\u001b[32m    156\u001b[39m     value = typ()\n\u001b[32m    157\u001b[39m \u001b[38;5;28;01mtry\u001b[39;00m:\n\u001b[32m--> \u001b[39m\u001b[32m158\u001b[39m     \u001b[38;5;28;43mself\u001b[39;49m\u001b[43m.\u001b[49m\u001b[43mgen\u001b[49m\u001b[43m.\u001b[49m\u001b[43mthrow\u001b[49m\u001b[43m(\u001b[49m\u001b[43mvalue\u001b[49m\u001b[43m)\u001b[49m\n\u001b[32m    159\u001b[39m \u001b[38;5;28;01mexcept\u001b[39;00m \u001b[38;5;167;01mStopIteration\u001b[39;00m \u001b[38;5;28;01mas\u001b[39;00m exc:\n\u001b[32m    160\u001b[39m     \u001b[38;5;66;03m# Suppress StopIteration *unless* it's the same exception that\u001b[39;00m\n\u001b[32m    161\u001b[39m     \u001b[38;5;66;03m# was passed to throw().  This prevents a StopIteration\u001b[39;00m\n\u001b[32m    162\u001b[39m     \u001b[38;5;66;03m# raised inside the \"with\" statement from being suppressed.\u001b[39;00m\n\u001b[32m    163\u001b[39m     \u001b[38;5;28;01mreturn\u001b[39;00m exc \u001b[38;5;129;01mis\u001b[39;00m \u001b[38;5;129;01mnot\u001b[39;00m value\n",
      "\u001b[36mFile \u001b[39m\u001b[32m~/anaconda3/envs/neuralabs-aptos/lib/python3.12/site-packages/httpx/_transports/default.py:89\u001b[39m, in \u001b[36mmap_httpcore_exceptions\u001b[39m\u001b[34m()\u001b[39m\n\u001b[32m     86\u001b[39m     \u001b[38;5;28;01mraise\u001b[39;00m\n\u001b[32m     88\u001b[39m message = \u001b[38;5;28mstr\u001b[39m(exc)\n\u001b[32m---> \u001b[39m\u001b[32m89\u001b[39m \u001b[38;5;28;01mraise\u001b[39;00m mapped_exc(message) \u001b[38;5;28;01mfrom\u001b[39;00m\u001b[38;5;250m \u001b[39m\u001b[34;01mexc\u001b[39;00m\n",
      "\u001b[31mReadTimeout\u001b[39m: "
     ]
    }
   ],
   "source": [
    "# Our own WebSocket URL (we'll handle streaming ourselves)\n",
    "my_ws_url = f\"ws://localhost:9000/ws/{flow_id}\"\n",
    "\n",
    "# Prepare the request payload\n",
    "request_data = {\n",
    "    \"flow_id\": flow_id,\n",
    "    \"flow_definition\": yaml_data.get(\"flow_definition\"),\n",
    "    \"initial_inputs\": yaml_data.get(\"initial_inputs\", {}),\n",
    "    \"backend2_ws_url\": my_ws_url  # The URL where Backend 1 should stream to\n",
    "}\n",
    "\n",
    "# Send the request to Backend 1\n",
    "print(f\"Sending flow '{flow_id}' to Backend 1...\")\n",
    "async with httpx.AsyncClient() as client:\n",
    "    response = await client.post(backend1_url, json=request_data, timeout=30.0)\n",
    "\n",
    "# Display the response\n",
    "if response.status_code == 200:\n",
    "    result = response.json()\n",
    "    print(f\"Success! Response: {json.dumps(result, indent=2)}\")\n",
    "    print(f\"Flow execution started with ID: {result.get('flow_id')}\")\n",
    "    \n",
    "    # Start listening for streaming responses\n",
    "    await listen_to_stream()\n",
    "else:\n",
    "    print(f\"Error: {response.status_code}\")\n",
    "    print(f\"Response: {response.text}\")\n"
   ]
  },
  {
   "cell_type": "code",
   "execution_count": null,
   "metadata": {},
   "outputs": [],
   "source": []
  }
 ],
 "metadata": {
  "kernelspec": {
   "display_name": "neuralabs-aptos",
   "language": "python",
   "name": "python3"
  },
  "language_info": {
   "codemirror_mode": {
    "name": "ipython",
    "version": 3
   },
   "file_extension": ".py",
   "mimetype": "text/x-python",
   "name": "python",
   "nbconvert_exporter": "python",
   "pygments_lexer": "ipython3",
   "version": "3.12.9"
  }
 },
 "nbformat": 4,
 "nbformat_minor": 2
}
