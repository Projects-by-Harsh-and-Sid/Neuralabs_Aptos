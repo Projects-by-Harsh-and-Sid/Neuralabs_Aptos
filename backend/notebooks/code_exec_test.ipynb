{
 "cells": [
  {
   "cell_type": "code",
   "execution_count": null,
   "metadata": {},
   "outputs": [],
   "source": [
    "# pip install httpx websockets"
   ]
  },
  {
   "cell_type": "code",
   "execution_count": 1,
   "metadata": {},
   "outputs": [],
   "source": [
    "#!/usr/bin/env python3\n",
    "import yaml\n",
    "import json\n",
    "import asyncio\n",
    "import websockets\n",
    "import time\n",
    "\n",
    "# Install nest_asyncio if you haven't already:\n",
    "# !pip install nest_asyncio\n",
    "import nest_asyncio\n",
    "nest_asyncio.apply()  # This allows asyncio.run() inside Jupyter\n"
   ]
  },
  {
   "cell_type": "code",
   "execution_count": 2,
   "metadata": {},
   "outputs": [
    {
     "name": "stdout",
     "output_type": "stream",
     "text": [
      "Loading flow from ./execution_flows/simple-ai-flow.yaml...\n",
      "Flow ID: simple-ai-flow\n"
     ]
    }
   ],
   "source": [
    "# Load the YAML flow file\n",
    "yaml_file_path = \"./execution_flows/simple-ai-flow.yaml\"  # Update this to your file location\n",
    "print(f\"Loading flow from {yaml_file_path}...\")\n",
    "\n",
    "with open(yaml_file_path, 'r') as file:\n",
    "    yaml_data = yaml.safe_load(file)\n",
    "\n",
    "flow_id = yaml_data.get(\"flow_id\", \"flow-\" + yaml_file_path.split(\"/\")[-1].split(\".\")[0])\n",
    "print(f\"Flow ID: {flow_id}\")\n"
   ]
  },
  {
   "cell_type": "code",
   "execution_count": null,
   "metadata": {},
   "outputs": [],
   "source": []
  },
  {
   "cell_type": "code",
   "execution_count": 4,
   "metadata": {},
   "outputs": [
    {
     "name": "stdout",
     "output_type": "stream",
     "text": [
      "Connecting to WebSocket at ws://localhost:8000/ws/execute/simple-ai-flow\n",
      "Server: {\"status\": \"ready\", \"message\": \"Send flow_definition as JSON\"}\n",
      "Sent flow definition\n",
      "Server: {\"status\": \"received_flow\", \"message\": \"Send initial_inputs as JSON\"}\n",
      "Sent initial inputs\n",
      "Server: {\"status\": \"received_inputs\", \"message\": \"Send config as JSON or 'null'\"}\n",
      "Sent null config\n",
      "Server: {\"status\": \"starting\", \"message\": \"Starting flow execution\"}\n",
      "Flow execution starting. Receiving events...\n",
      "\n",
      "WebSocket connection closed\n",
      "\n",
      "--- Complete response ---\n",
      "\n",
      "\n"
     ]
    }
   ],
   "source": [
    "\n",
    "\n",
    "\n",
    "async def execute_and_stream():\n",
    "    websocket_url = f\"ws://localhost:8000/ws/execute/{flow_id}\"\n",
    "    print(f\"Connecting to WebSocket at {websocket_url}\")\n",
    "    \n",
    "    try:\n",
    "        async with websockets.connect(websocket_url) as websocket:\n",
    "            # Receive ready message\n",
    "            ready_msg = await websocket.recv()\n",
    "            print(f\"Server: {ready_msg}\")\n",
    "            \n",
    "            # Send flow definition\n",
    "            flow_definition_str = json.dumps(yaml_data.get(\"flow_definition\"))\n",
    "            await websocket.send(flow_definition_str)\n",
    "            print(\"Sent flow definition\")\n",
    "            \n",
    "            # Receive acknowledgment\n",
    "            ack1 = await websocket.recv()\n",
    "            print(f\"Server: {ack1}\")\n",
    "            \n",
    "            # Send initial inputs\n",
    "            initial_inputs_str = json.dumps(yaml_data.get(\"initial_inputs\", {}))\n",
    "            await websocket.send(initial_inputs_str)\n",
    "            print(\"Sent initial inputs\")\n",
    "            \n",
    "            # Receive acknowledgment\n",
    "            ack2 = await websocket.recv()\n",
    "            print(f\"Server: {ack2}\")\n",
    "            \n",
    "            # Send config (null in this case)\n",
    "            await websocket.send(\"null\")\n",
    "            print(\"Sent null config\")\n",
    "            \n",
    "            # Receive final acknowledgment\n",
    "            ack3 = await websocket.recv()\n",
    "            print(f\"Server: {ack3}\")\n",
    "            \n",
    "            print(\"Flow execution starting. Receiving events...\")\n",
    "            \n",
    "            # Now receive streaming events\n",
    "            all_output = \"\"\n",
    "            while True:\n",
    "                try:\n",
    "                    message = await websocket.recv()\n",
    "                    data = json.loads(message)\n",
    "                    event_type = data.get(\"type\", \"unknown\")\n",
    "                    \n",
    "                    if event_type == \"llm_chunk\":\n",
    "                        chunk = data.get(\"data\", {}).get(\"content\", \"\")\n",
    "                        all_output += chunk\n",
    "                        print(chunk, end=\"\", flush=True)\n",
    "                    elif event_type == \"flow_completed\":\n",
    "                        print(\"\\n\\nFlow completed!\")\n",
    "                        break\n",
    "                    elif event_type == \"element_error\" or event_type == \"flow_error\":\n",
    "                        error = data.get(\"data\", {}).get(\"error\", \"Unknown error\")\n",
    "                        print(f\"\\nError: {error}\")\n",
    "                        break\n",
    "                except websockets.exceptions.ConnectionClosed:\n",
    "                    print(\"\\nWebSocket connection closed\")\n",
    "                    break\n",
    "            \n",
    "            print(\"\\n--- Complete response ---\\n\")\n",
    "            print(all_output)\n",
    "    \n",
    "    except Exception as e:\n",
    "        print(f\"Error: {str(e)}\")\n",
    "\n",
    "# In Jupyter, don't use asyncio.run() - use one of these approaches:\n",
    "\n",
    "# OPTION 1: If using Jupyter with IPython 7+, you can await directly:\n",
    "await execute_and_stream()\n",
    "\n",
    "# OPTION 2: If the above doesn't work, use nest_asyncio (already applied at the top):\n",
    "# asyncio.run(execute_and_stream())"
   ]
  },
  {
   "cell_type": "code",
   "execution_count": null,
   "metadata": {},
   "outputs": [],
   "source": []
  }
 ],
 "metadata": {
  "kernelspec": {
   "display_name": "neuralabs-aptos",
   "language": "python",
   "name": "python3"
  },
  "language_info": {
   "codemirror_mode": {
    "name": "ipython",
    "version": 3
   },
   "file_extension": ".py",
   "mimetype": "text/x-python",
   "name": "python",
   "nbconvert_exporter": "python",
   "pygments_lexer": "ipython3",
   "version": "3.12.9"
  }
 },
 "nbformat": 4,
 "nbformat_minor": 2
}
